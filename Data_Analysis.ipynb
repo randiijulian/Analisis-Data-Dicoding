{
  "nbformat": 4,
  "nbformat_minor": 0,
  "metadata": {
    "colab": {
      "provenance": []
    },
    "kernelspec": {
      "name": "python3",
      "display_name": "Python 3"
    },
    "language_info": {
      "name": "python"
    }
  },
  "cells": [
    {
      "cell_type": "markdown",
      "source": [
        "Nama : Randi Julian Saputra\n",
        "\n",
        "[![Open In Colab](https://colab.research.google.com/assets/colab-badge.svg)](https://colab.research.google.com/github/randiijulian/Machine-Learning-Terapan-Dicoding/blob/main/Recommender%20System/Recommender_System.ipynb)\n",
        "[![LinkedIn](https://img.shields.io/badge/LinkedIn-Profile-blue?logo=linkedin)](https://www.linkedin.com/in/randijulian/)\n",
        "[![Github](https://img.shields.io/badge/Open%20In-GitHub-lightgrey?logo=github)](https://github.com/randiijulian)\n",
        "[![Dataset](https://img.shields.io/badge/Dataset-Download-green)](https://www.kaggle.com/datasets/arashnic/book-recommendation-dataset)"
      ],
      "metadata": {
        "id": "6h9CLKUmp6W0"
      }
    },
    {
      "cell_type": "markdown",
      "source": [
        "## Project Submission Dicoding Analysis Data with Python\n",
        "****\n",
        "\n",
        "---"
      ],
      "metadata": {
        "id": "Vp44dyGXZ8MG"
      }
    },
    {
      "cell_type": "code",
      "source": [
        "from google.colab import drive\n",
        "drive.mount('/content/drive')"
      ],
      "metadata": {
        "id": "JjFUq1aeZ7Yh"
      },
      "execution_count": null,
      "outputs": []
    },
    {
      "cell_type": "code",
      "execution_count": null,
      "metadata": {
        "id": "nqqujBw0YlT_"
      },
      "outputs": [],
      "source": []
    }
  ]
}