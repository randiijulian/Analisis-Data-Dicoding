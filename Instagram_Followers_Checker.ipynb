{
  "cells": [
    {
      "cell_type": "markdown",
      "metadata": {
        "id": "view-in-github",
        "colab_type": "text"
      },
      "source": [
        "<a href=\"https://colab.research.google.com/github/randiijulian/Analisis-Data-Dicoding/blob/main/Instagram_Followers_Checker.ipynb\" target=\"_parent\"><img src=\"https://colab.research.google.com/assets/colab-badge.svg\" alt=\"Open In Colab\"/></a>"
      ]
    },
    {
      "cell_type": "code",
      "source": [
        "import json\n",
        "\n",
        "f = open (\"/content/followers_1.json\")\n",
        "data = json.load(f)\n",
        "\n",
        "follower = []\n",
        "\n",
        "for i in data:\n",
        "  for j in i[\"string_list_data\"]:\n",
        "    follower.append(j[\"value\"])\n",
        "\n",
        "f = open (\"/content/following.json\")\n",
        "\n",
        "data = json.load(f)\n",
        "\n",
        "following = []\n",
        "\n",
        "for i in data[\"relationships_following\"]:\n",
        "  for j in i[\"string_list_data\"]:\n",
        "    following.append(j[\"value\"])\n",
        "\n",
        "mutual = []\n",
        "\n",
        "for i in following:\n",
        "  if i in follower:\n",
        "    mutual.append(i)\n",
        "\n",
        "for i in following:\n",
        "  if i not in mutual:\n",
        "    print(\"https.//www.instagram.com/\"+i)"
      ],
      "metadata": {
        "id": "y5FZZEUIJ5Ha"
      },
      "execution_count": null,
      "outputs": []
    }
  ],
  "metadata": {
    "colab": {
      "toc_visible": true,
      "provenance": [],
      "include_colab_link": true
    },
    "kernelspec": {
      "display_name": "Python 3",
      "name": "python3"
    }
  },
  "nbformat": 4,
  "nbformat_minor": 0
}